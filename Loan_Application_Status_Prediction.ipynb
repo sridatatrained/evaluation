{
 "cells": [
  {
   "cell_type": "markdown",
   "metadata": {
    "id": "6baXvrH2RNPb"
   },
   "source": [
    "#**Loan Application Status Prediction**"
   ]
  },
  {
   "cell_type": "markdown",
   "metadata": {
    "id": "wHyaUDpBQ_8l"
   },
   "source": [
    "#**Project Description**\n",
    "\n",
    "---\n",
    "\n",
    "This dataset includes details of applicants who have applied for loan. The dataset includes details like credit history, loan amount, their income, dependents etc."
   ]
  },
  {
   "cell_type": "markdown",
   "metadata": {
    "id": "pFWi-h0GRUUA"
   },
   "source": [
    "#**Importing Required Libraries**"
   ]
  },
  {
   "cell_type": "code",
   "execution_count": 98,
   "metadata": {
    "id": "EsXEoZK6RaU-"
   },
   "outputs": [],
   "source": [
    "# Importing necessary libraries >>\n",
    "\n",
    "# For dealing with Dataframe >>\n",
    "import pandas as pd\n",
    "# For Dealing with Calculations >>\n",
    "import numpy as np\n",
    "# For dealing with Graphs >>\n",
    "import matplotlib.pyplot as plt\n",
    "import seaborn as sns"
   ]
  },
  {
   "cell_type": "markdown",
   "metadata": {
    "id": "iz_DgNiHRc6b"
   },
   "source": [
    "#**Load the Data**"
   ]
  },
  {
   "cell_type": "code",
   "execution_count": 99,
   "metadata": {
    "id": "vftLYBg6REty"
   },
   "outputs": [],
   "source": [
    "# Load the dataset into df variable >>\n",
    "df = pd.read_csv('https://raw.githubusercontent.com/dsrscientist/DSData/master/loan_prediction.csv')\n",
    "\n",
    "# Exlclude ID Column not required >>\n",
    "df.drop(['Loan_ID'],axis=1,inplace=True)"
   ]
  },
  {
   "cell_type": "markdown",
   "metadata": {
    "id": "0et4CX2QRmfB"
   },
   "source": [
    "#**Explore the Data**"
   ]
  },
  {
   "cell_type": "code",
   "execution_count": 100,
   "metadata": {
    "colab": {
     "base_uri": "https://localhost:8080/",
     "height": 206
    },
    "id": "LtUDOhYNRkgt",
    "outputId": "f01138f2-a322-469e-8b3d-27c1e9ea6f8f"
   },
   "outputs": [
    {
     "data": {
      "text/html": [
       "<div>\n",
       "<style scoped>\n",
       "    .dataframe tbody tr th:only-of-type {\n",
       "        vertical-align: middle;\n",
       "    }\n",
       "\n",
       "    .dataframe tbody tr th {\n",
       "        vertical-align: top;\n",
       "    }\n",
       "\n",
       "    .dataframe thead th {\n",
       "        text-align: right;\n",
       "    }\n",
       "</style>\n",
       "<table border=\"1\" class=\"dataframe\">\n",
       "  <thead>\n",
       "    <tr style=\"text-align: right;\">\n",
       "      <th></th>\n",
       "      <th>Gender</th>\n",
       "      <th>Married</th>\n",
       "      <th>Dependents</th>\n",
       "      <th>Education</th>\n",
       "      <th>Self_Employed</th>\n",
       "      <th>ApplicantIncome</th>\n",
       "      <th>CoapplicantIncome</th>\n",
       "      <th>LoanAmount</th>\n",
       "      <th>Loan_Amount_Term</th>\n",
       "      <th>Credit_History</th>\n",
       "      <th>Property_Area</th>\n",
       "      <th>Loan_Status</th>\n",
       "    </tr>\n",
       "  </thead>\n",
       "  <tbody>\n",
       "    <tr>\n",
       "      <th>0</th>\n",
       "      <td>Male</td>\n",
       "      <td>No</td>\n",
       "      <td>0</td>\n",
       "      <td>Graduate</td>\n",
       "      <td>No</td>\n",
       "      <td>5849</td>\n",
       "      <td>0.0</td>\n",
       "      <td>NaN</td>\n",
       "      <td>360.0</td>\n",
       "      <td>1.0</td>\n",
       "      <td>Urban</td>\n",
       "      <td>Y</td>\n",
       "    </tr>\n",
       "    <tr>\n",
       "      <th>1</th>\n",
       "      <td>Male</td>\n",
       "      <td>Yes</td>\n",
       "      <td>1</td>\n",
       "      <td>Graduate</td>\n",
       "      <td>No</td>\n",
       "      <td>4583</td>\n",
       "      <td>1508.0</td>\n",
       "      <td>128.0</td>\n",
       "      <td>360.0</td>\n",
       "      <td>1.0</td>\n",
       "      <td>Rural</td>\n",
       "      <td>N</td>\n",
       "    </tr>\n",
       "    <tr>\n",
       "      <th>2</th>\n",
       "      <td>Male</td>\n",
       "      <td>Yes</td>\n",
       "      <td>0</td>\n",
       "      <td>Graduate</td>\n",
       "      <td>Yes</td>\n",
       "      <td>3000</td>\n",
       "      <td>0.0</td>\n",
       "      <td>66.0</td>\n",
       "      <td>360.0</td>\n",
       "      <td>1.0</td>\n",
       "      <td>Urban</td>\n",
       "      <td>Y</td>\n",
       "    </tr>\n",
       "    <tr>\n",
       "      <th>3</th>\n",
       "      <td>Male</td>\n",
       "      <td>Yes</td>\n",
       "      <td>0</td>\n",
       "      <td>Not Graduate</td>\n",
       "      <td>No</td>\n",
       "      <td>2583</td>\n",
       "      <td>2358.0</td>\n",
       "      <td>120.0</td>\n",
       "      <td>360.0</td>\n",
       "      <td>1.0</td>\n",
       "      <td>Urban</td>\n",
       "      <td>Y</td>\n",
       "    </tr>\n",
       "    <tr>\n",
       "      <th>4</th>\n",
       "      <td>Male</td>\n",
       "      <td>No</td>\n",
       "      <td>0</td>\n",
       "      <td>Graduate</td>\n",
       "      <td>No</td>\n",
       "      <td>6000</td>\n",
       "      <td>0.0</td>\n",
       "      <td>141.0</td>\n",
       "      <td>360.0</td>\n",
       "      <td>1.0</td>\n",
       "      <td>Urban</td>\n",
       "      <td>Y</td>\n",
       "    </tr>\n",
       "  </tbody>\n",
       "</table>\n",
       "</div>"
      ],
      "text/plain": [
       "  Gender Married Dependents     Education Self_Employed  ApplicantIncome  \\\n",
       "0   Male      No          0      Graduate            No             5849   \n",
       "1   Male     Yes          1      Graduate            No             4583   \n",
       "2   Male     Yes          0      Graduate           Yes             3000   \n",
       "3   Male     Yes          0  Not Graduate            No             2583   \n",
       "4   Male      No          0      Graduate            No             6000   \n",
       "\n",
       "   CoapplicantIncome  LoanAmount  Loan_Amount_Term  Credit_History  \\\n",
       "0                0.0         NaN             360.0             1.0   \n",
       "1             1508.0       128.0             360.0             1.0   \n",
       "2                0.0        66.0             360.0             1.0   \n",
       "3             2358.0       120.0             360.0             1.0   \n",
       "4                0.0       141.0             360.0             1.0   \n",
       "\n",
       "  Property_Area Loan_Status  \n",
       "0         Urban           Y  \n",
       "1         Rural           N  \n",
       "2         Urban           Y  \n",
       "3         Urban           Y  \n",
       "4         Urban           Y  "
      ]
     },
     "execution_count": 100,
     "metadata": {},
     "output_type": "execute_result"
    }
   ],
   "source": [
    "# Make all columns & rows of dataset as max to display >>\n",
    "pd.set_option('display.max_columns',None)\n",
    "pd.set_option('display.max_rows',None)\n",
    "\n",
    "# Lets look at top  Rows of Dataset >>\n",
    "df.head()"
   ]
  },
  {
   "cell_type": "code",
   "execution_count": 101,
   "metadata": {
    "colab": {
     "base_uri": "https://localhost:8080/"
    },
    "id": "evdqGRUnRpW-",
    "outputId": "95fe223e-0fac-4277-c6c3-8d4bb199e7e3"
   },
   "outputs": [
    {
     "name": "stdout",
     "output_type": "stream",
     "text": [
      "[$] Rows Of Dataset >>  614\n",
      "[$] Columns Of Dataset >>  12\n"
     ]
    }
   ],
   "source": [
    "# Check the Shape of train Dataset >>\n",
    "print(\"[$] Rows Of Dataset >> \",df.shape[0])\n",
    "print(\"[$] Columns Of Dataset >> \",df.shape[1])"
   ]
  },
  {
   "cell_type": "code",
   "execution_count": 102,
   "metadata": {
    "colab": {
     "base_uri": "https://localhost:8080/"
    },
    "id": "2gFCvyTFR2f4",
    "outputId": "6d3ac486-2763-4724-92a1-0b80cc871fca"
   },
   "outputs": [
    {
     "name": "stdout",
     "output_type": "stream",
     "text": [
      "<class 'pandas.core.frame.DataFrame'>\n",
      "RangeIndex: 614 entries, 0 to 613\n",
      "Data columns (total 12 columns):\n",
      " #   Column             Non-Null Count  Dtype  \n",
      "---  ------             --------------  -----  \n",
      " 0   Gender             601 non-null    object \n",
      " 1   Married            611 non-null    object \n",
      " 2   Dependents         599 non-null    object \n",
      " 3   Education          614 non-null    object \n",
      " 4   Self_Employed      582 non-null    object \n",
      " 5   ApplicantIncome    614 non-null    int64  \n",
      " 6   CoapplicantIncome  614 non-null    float64\n",
      " 7   LoanAmount         592 non-null    float64\n",
      " 8   Loan_Amount_Term   600 non-null    float64\n",
      " 9   Credit_History     564 non-null    float64\n",
      " 10  Property_Area      614 non-null    object \n",
      " 11  Loan_Status        614 non-null    object \n",
      "dtypes: float64(4), int64(1), object(7)\n",
      "memory usage: 57.7+ KB\n"
     ]
    }
   ],
   "source": [
    "# Information of Dataset >> to get information about Columns & thier datatypes\n",
    "df.info()"
   ]
  },
  {
   "cell_type": "code",
   "execution_count": 103,
   "metadata": {
    "colab": {
     "base_uri": "https://localhost:8080/"
    },
    "id": "SyyC35aKR7E9",
    "outputId": "e870980b-fb50-4397-ddf4-37095d5ad802"
   },
   "outputs": [
    {
     "name": "stdout",
     "output_type": "stream",
     "text": [
      "[$] Null Values >>  149\n",
      "----------------------------------------------------------------------\n"
     ]
    },
    {
     "data": {
      "text/plain": [
       "Gender               13\n",
       "Married               3\n",
       "Dependents           15\n",
       "Education             0\n",
       "Self_Employed        32\n",
       "ApplicantIncome       0\n",
       "CoapplicantIncome     0\n",
       "LoanAmount           22\n",
       "Loan_Amount_Term     14\n",
       "Credit_History       50\n",
       "Property_Area         0\n",
       "Loan_Status           0\n",
       "dtype: int64"
      ]
     },
     "execution_count": 103,
     "metadata": {},
     "output_type": "execute_result"
    }
   ],
   "source": [
    "# Check for missin values or Null values >>\n",
    "print(\"[$] Null Values >> \",df.isnull().sum().sum())\n",
    "print(\"-\"*70)\n",
    "df.isnull().sum()"
   ]
  },
  {
   "cell_type": "code",
   "execution_count": 104,
   "metadata": {
    "colab": {
     "base_uri": "https://localhost:8080/",
     "height": 206
    },
    "id": "_TraUuVWR-dn",
    "outputId": "768294f2-f466-43ab-aa95-6e3454cf3f38"
   },
   "outputs": [
    {
     "data": {
      "text/html": [
       "<div>\n",
       "<style scoped>\n",
       "    .dataframe tbody tr th:only-of-type {\n",
       "        vertical-align: middle;\n",
       "    }\n",
       "\n",
       "    .dataframe tbody tr th {\n",
       "        vertical-align: top;\n",
       "    }\n",
       "\n",
       "    .dataframe thead th {\n",
       "        text-align: right;\n",
       "    }\n",
       "</style>\n",
       "<table border=\"1\" class=\"dataframe\">\n",
       "  <thead>\n",
       "    <tr style=\"text-align: right;\">\n",
       "      <th></th>\n",
       "      <th>count</th>\n",
       "      <th>mean</th>\n",
       "      <th>std</th>\n",
       "      <th>min</th>\n",
       "      <th>25%</th>\n",
       "      <th>50%</th>\n",
       "      <th>75%</th>\n",
       "      <th>max</th>\n",
       "    </tr>\n",
       "  </thead>\n",
       "  <tbody>\n",
       "    <tr>\n",
       "      <th>ApplicantIncome</th>\n",
       "      <td>614.0</td>\n",
       "      <td>5403.459283</td>\n",
       "      <td>6109.041673</td>\n",
       "      <td>150.0</td>\n",
       "      <td>2877.5</td>\n",
       "      <td>3812.5</td>\n",
       "      <td>5795.00</td>\n",
       "      <td>81000.0</td>\n",
       "    </tr>\n",
       "    <tr>\n",
       "      <th>CoapplicantIncome</th>\n",
       "      <td>614.0</td>\n",
       "      <td>1621.245798</td>\n",
       "      <td>2926.248369</td>\n",
       "      <td>0.0</td>\n",
       "      <td>0.0</td>\n",
       "      <td>1188.5</td>\n",
       "      <td>2297.25</td>\n",
       "      <td>41667.0</td>\n",
       "    </tr>\n",
       "    <tr>\n",
       "      <th>LoanAmount</th>\n",
       "      <td>592.0</td>\n",
       "      <td>146.412162</td>\n",
       "      <td>85.587325</td>\n",
       "      <td>9.0</td>\n",
       "      <td>100.0</td>\n",
       "      <td>128.0</td>\n",
       "      <td>168.00</td>\n",
       "      <td>700.0</td>\n",
       "    </tr>\n",
       "    <tr>\n",
       "      <th>Loan_Amount_Term</th>\n",
       "      <td>600.0</td>\n",
       "      <td>342.000000</td>\n",
       "      <td>65.120410</td>\n",
       "      <td>12.0</td>\n",
       "      <td>360.0</td>\n",
       "      <td>360.0</td>\n",
       "      <td>360.00</td>\n",
       "      <td>480.0</td>\n",
       "    </tr>\n",
       "    <tr>\n",
       "      <th>Credit_History</th>\n",
       "      <td>564.0</td>\n",
       "      <td>0.842199</td>\n",
       "      <td>0.364878</td>\n",
       "      <td>0.0</td>\n",
       "      <td>1.0</td>\n",
       "      <td>1.0</td>\n",
       "      <td>1.00</td>\n",
       "      <td>1.0</td>\n",
       "    </tr>\n",
       "  </tbody>\n",
       "</table>\n",
       "</div>"
      ],
      "text/plain": [
       "                   count         mean          std    min     25%     50%  \\\n",
       "ApplicantIncome    614.0  5403.459283  6109.041673  150.0  2877.5  3812.5   \n",
       "CoapplicantIncome  614.0  1621.245798  2926.248369    0.0     0.0  1188.5   \n",
       "LoanAmount         592.0   146.412162    85.587325    9.0   100.0   128.0   \n",
       "Loan_Amount_Term   600.0   342.000000    65.120410   12.0   360.0   360.0   \n",
       "Credit_History     564.0     0.842199     0.364878    0.0     1.0     1.0   \n",
       "\n",
       "                       75%      max  \n",
       "ApplicantIncome    5795.00  81000.0  \n",
       "CoapplicantIncome  2297.25  41667.0  \n",
       "LoanAmount          168.00    700.0  \n",
       "Loan_Amount_Term    360.00    480.0  \n",
       "Credit_History        1.00      1.0  "
      ]
     },
     "execution_count": 104,
     "metadata": {},
     "output_type": "execute_result"
    }
   ],
   "source": [
    "# Get statistical distribution of the dataset >>\n",
    "df.describe().T"
   ]
  },
  {
   "cell_type": "markdown",
   "metadata": {
    "id": "xfJw2zbsTHMz"
   },
   "source": [
    "#**Data Cleaning**"
   ]
  },
  {
   "cell_type": "code",
   "execution_count": 105,
   "metadata": {
    "id": "ufB_U3MASIdn"
   },
   "outputs": [],
   "source": [
    "# Getting categorical & Numerical feauters >>\n",
    "Categorical_columns = df.select_dtypes(include=['object']).columns\n",
    "Numerical_Columns = df.select_dtypes(include=['number']).columns"
   ]
  },
  {
   "cell_type": "code",
   "execution_count": 106,
   "metadata": {
    "colab": {
     "base_uri": "https://localhost:8080/"
    },
    "id": "7jDr4sK5Tm6H",
    "outputId": "66f7a8d2-cf56-4762-89c4-91f0938349f9"
   },
   "outputs": [
    {
     "name": "stdout",
     "output_type": "stream",
     "text": [
      "[$] Categorical Columns >>  ['Gender', 'Married', 'Dependents', 'Education', 'Self_Employed', 'Property_Area', 'Loan_Status']\n",
      "[$] Numerical Columns >>  ['ApplicantIncome', 'CoapplicantIncome', 'LoanAmount', 'Loan_Amount_Term', 'Credit_History']\n"
     ]
    }
   ],
   "source": [
    "print(\"[$] Categorical Columns >> \",Categorical_columns.tolist())\n",
    "print(\"[$] Numerical Columns >> \",Numerical_Columns.tolist())"
   ]
  },
  {
   "cell_type": "code",
   "execution_count": 107,
   "metadata": {
    "id": "kJzbsJDwTsLe"
   },
   "outputs": [],
   "source": [
    "from sklearn.impute import SimpleImputer\n",
    "\n",
    "# Impute missing values in numeric columns with mean\n",
    "numeric_imputer = SimpleImputer(strategy='mean')\n",
    "df[Numerical_Columns] = numeric_imputer.fit_transform(df[Numerical_Columns])\n",
    "\n",
    "# Impute missing values in categorical columns with most frequent value\n",
    "categorical_imputer = SimpleImputer(strategy='most_frequent')\n",
    "df[Categorical_columns] = categorical_imputer.fit_transform(df[Categorical_columns])"
   ]
  },
  {
   "cell_type": "code",
   "execution_count": 108,
   "metadata": {
    "colab": {
     "base_uri": "https://localhost:8080/"
    },
    "id": "QGo3nNDVT406",
    "outputId": "50b16484-7dd0-4707-b57b-71d7268791fb"
   },
   "outputs": [
    {
     "name": "stdout",
     "output_type": "stream",
     "text": [
      "[$] Null Values >>  0\n",
      "----------------------------------------------------------------------\n"
     ]
    },
    {
     "data": {
      "text/plain": [
       "Gender               0\n",
       "Married              0\n",
       "Dependents           0\n",
       "Education            0\n",
       "Self_Employed        0\n",
       "ApplicantIncome      0\n",
       "CoapplicantIncome    0\n",
       "LoanAmount           0\n",
       "Loan_Amount_Term     0\n",
       "Credit_History       0\n",
       "Property_Area        0\n",
       "Loan_Status          0\n",
       "dtype: int64"
      ]
     },
     "execution_count": 108,
     "metadata": {},
     "output_type": "execute_result"
    }
   ],
   "source": [
    "# Check for missin values or Null values >>\n",
    "print(\"[$] Null Values >> \",df.isnull().sum().sum())\n",
    "print(\"-\"*70)\n",
    "df.isnull().sum()"
   ]
  },
  {
   "cell_type": "code",
   "execution_count": 109,
   "metadata": {
    "colab": {
     "base_uri": "https://localhost:8080/",
     "height": 206
    },
    "id": "FbyOMcEMTovw",
    "outputId": "057ccc57-1773-4a2f-8793-6a594cf8979e"
   },
   "outputs": [
    {
     "data": {
      "text/html": [
       "<div>\n",
       "<style scoped>\n",
       "    .dataframe tbody tr th:only-of-type {\n",
       "        vertical-align: middle;\n",
       "    }\n",
       "\n",
       "    .dataframe tbody tr th {\n",
       "        vertical-align: top;\n",
       "    }\n",
       "\n",
       "    .dataframe thead th {\n",
       "        text-align: right;\n",
       "    }\n",
       "</style>\n",
       "<table border=\"1\" class=\"dataframe\">\n",
       "  <thead>\n",
       "    <tr style=\"text-align: right;\">\n",
       "      <th></th>\n",
       "      <th>Gender</th>\n",
       "      <th>Married</th>\n",
       "      <th>Dependents</th>\n",
       "      <th>Education</th>\n",
       "      <th>Self_Employed</th>\n",
       "      <th>ApplicantIncome</th>\n",
       "      <th>CoapplicantIncome</th>\n",
       "      <th>LoanAmount</th>\n",
       "      <th>Loan_Amount_Term</th>\n",
       "      <th>Credit_History</th>\n",
       "      <th>Property_Area</th>\n",
       "      <th>Loan_Status</th>\n",
       "    </tr>\n",
       "  </thead>\n",
       "  <tbody>\n",
       "    <tr>\n",
       "      <th>0</th>\n",
       "      <td>Male</td>\n",
       "      <td>No</td>\n",
       "      <td>0</td>\n",
       "      <td>Graduate</td>\n",
       "      <td>No</td>\n",
       "      <td>5849.0</td>\n",
       "      <td>0.0</td>\n",
       "      <td>146.412162</td>\n",
       "      <td>360.0</td>\n",
       "      <td>1.0</td>\n",
       "      <td>Urban</td>\n",
       "      <td>Y</td>\n",
       "    </tr>\n",
       "    <tr>\n",
       "      <th>1</th>\n",
       "      <td>Male</td>\n",
       "      <td>Yes</td>\n",
       "      <td>1</td>\n",
       "      <td>Graduate</td>\n",
       "      <td>No</td>\n",
       "      <td>4583.0</td>\n",
       "      <td>1508.0</td>\n",
       "      <td>128.000000</td>\n",
       "      <td>360.0</td>\n",
       "      <td>1.0</td>\n",
       "      <td>Rural</td>\n",
       "      <td>N</td>\n",
       "    </tr>\n",
       "    <tr>\n",
       "      <th>2</th>\n",
       "      <td>Male</td>\n",
       "      <td>Yes</td>\n",
       "      <td>0</td>\n",
       "      <td>Graduate</td>\n",
       "      <td>Yes</td>\n",
       "      <td>3000.0</td>\n",
       "      <td>0.0</td>\n",
       "      <td>66.000000</td>\n",
       "      <td>360.0</td>\n",
       "      <td>1.0</td>\n",
       "      <td>Urban</td>\n",
       "      <td>Y</td>\n",
       "    </tr>\n",
       "    <tr>\n",
       "      <th>3</th>\n",
       "      <td>Male</td>\n",
       "      <td>Yes</td>\n",
       "      <td>0</td>\n",
       "      <td>Not Graduate</td>\n",
       "      <td>No</td>\n",
       "      <td>2583.0</td>\n",
       "      <td>2358.0</td>\n",
       "      <td>120.000000</td>\n",
       "      <td>360.0</td>\n",
       "      <td>1.0</td>\n",
       "      <td>Urban</td>\n",
       "      <td>Y</td>\n",
       "    </tr>\n",
       "    <tr>\n",
       "      <th>4</th>\n",
       "      <td>Male</td>\n",
       "      <td>No</td>\n",
       "      <td>0</td>\n",
       "      <td>Graduate</td>\n",
       "      <td>No</td>\n",
       "      <td>6000.0</td>\n",
       "      <td>0.0</td>\n",
       "      <td>141.000000</td>\n",
       "      <td>360.0</td>\n",
       "      <td>1.0</td>\n",
       "      <td>Urban</td>\n",
       "      <td>Y</td>\n",
       "    </tr>\n",
       "  </tbody>\n",
       "</table>\n",
       "</div>"
      ],
      "text/plain": [
       "  Gender Married Dependents     Education Self_Employed  ApplicantIncome  \\\n",
       "0   Male      No          0      Graduate            No           5849.0   \n",
       "1   Male     Yes          1      Graduate            No           4583.0   \n",
       "2   Male     Yes          0      Graduate           Yes           3000.0   \n",
       "3   Male     Yes          0  Not Graduate            No           2583.0   \n",
       "4   Male      No          0      Graduate            No           6000.0   \n",
       "\n",
       "   CoapplicantIncome  LoanAmount  Loan_Amount_Term  Credit_History  \\\n",
       "0                0.0  146.412162             360.0             1.0   \n",
       "1             1508.0  128.000000             360.0             1.0   \n",
       "2                0.0   66.000000             360.0             1.0   \n",
       "3             2358.0  120.000000             360.0             1.0   \n",
       "4                0.0  141.000000             360.0             1.0   \n",
       "\n",
       "  Property_Area Loan_Status  \n",
       "0         Urban           Y  \n",
       "1         Rural           N  \n",
       "2         Urban           Y  \n",
       "3         Urban           Y  \n",
       "4         Urban           Y  "
      ]
     },
     "execution_count": 109,
     "metadata": {},
     "output_type": "execute_result"
    }
   ],
   "source": [
    "df.head()"
   ]
  },
  {
   "cell_type": "markdown",
   "metadata": {
    "id": "r0OIZp1NWWfm"
   },
   "source": [
    "#**EDA**"
   ]
  },
  {
   "cell_type": "code",
   "execution_count": 77,
   "metadata": {
    "colab": {
     "base_uri": "https://localhost:8080/",
     "height": 423
    },
    "id": "4lT0tmNwyhRA",
    "outputId": "250fddf4-5690-4303-9b24-9aaabb3499ea"
   },
   "outputs": [
    {
     "data": {
      "text/plain": [
       "<AxesSubplot:ylabel='Loan_Status'>"
      ]
     },
     "execution_count": 77,
     "metadata": {},
     "output_type": "execute_result"
    },
    {
     "data": {
      "image/png": "[encoded data removed]",
      "text/plain": [
       "<Figure size 640x480 with 1 Axes>"
      ]
     },
     "metadata": {},
     "output_type": "display_data"
    }
   ],
   "source": [
    "df['Loan_Status'].value_counts().plot(kind='pie',autopct='%.2f')\n",
    "\n",
    "# >> Loan Status Y has more count of 68.73% & 31.27% N\n",
    "# >> So It's imbalanceness in target feature"
   ]
  },
  {
   "cell_type": "code",
   "execution_count": 78,
   "metadata": {
    "colab": {
     "base_uri": "https://localhost:8080/",
     "height": 466
    },
    "id": "qMdbXT6o2Ten",
    "outputId": "1d19beb2-2123-4a85-91ad-636c5319093e"
   },
   "outputs": [
    {
     "data": {
      "text/plain": [
       "<AxesSubplot:xlabel='Dependents', ylabel='count'>"
      ]
     },
     "execution_count": 78,
     "metadata": {},
     "output_type": "execute_result"
    },
    {
     "data": {
      "image/png": "[encoded data removed]",
      "text/plain": [
       "<Figure size 640x480 with 1 Axes>"
      ]
     },
     "metadata": {},
     "output_type": "display_data"
    }
   ],
   "source": [
    "sns.countplot(x='Dependents',data=df,hue='Loan_Status')\n",
    "\n",
    "# >> Our dependent Category is divided into 4 Categories with 0,1,2 & 3+\n",
    "# >> As our dependent is more count of 0 so we can see more Loan Status Y for 0 dependents"
   ]
  },
  {
   "cell_type": "code",
   "execution_count": 79,
   "metadata": {
    "colab": {
     "base_uri": "https://localhost:8080/",
     "height": 466
    },
    "id": "wiq3KUZf3aST",
    "outputId": "018e0b17-3489-45e8-a6fe-3c485288aef7"
   },
   "outputs": [
    {
     "data": {
      "text/plain": [
       "<AxesSubplot:xlabel='LoanAmount', ylabel='Count'>"
      ]
     },
     "execution_count": 79,
     "metadata": {},
     "output_type": "execute_result"
    },
    {
     "data": {
      "image/png": "[encoded data removed]",
      "text/plain": [
       "<Figure size 640x480 with 1 Axes>"
      ]
     },
     "metadata": {},
     "output_type": "display_data"
    }
   ],
   "source": [
    "sns.histplot(df['LoanAmount'])\n",
    "\n",
    "# >> We can see LoanAmount is Distributed more between 0-300\n",
    "# >> Also we can less distribution of loan amount more than 400"
   ]
  },
  {
   "cell_type": "code",
   "execution_count": 80,
   "metadata": {
    "colab": {
     "base_uri": "https://localhost:8080/",
     "height": 423
    },
    "id": "0dC4ns3m6qE8",
    "outputId": "e3984ad1-43e7-447d-bb5e-be8ad4cb175b"
   },
   "outputs": [
    {
     "data": {
      "text/plain": [
       "<AxesSubplot:ylabel='Gender'>"
      ]
     },
     "execution_count": 80,
     "metadata": {},
     "output_type": "execute_result"
    },
    {
     "data": {
      "image/png": "[encoded data removed]",
      "text/plain": [
       "<Figure size 640x480 with 1 Axes>"
      ]
     },
     "metadata": {},
     "output_type": "display_data"
    }
   ],
   "source": [
    "df['Gender'].value_counts().plot(kind='pie',autopct='%.2f')\n",
    "# >> Also we can see imbalance in dataset for More Gender Male Count as Compared to Feamle"
   ]
  },
  {
   "cell_type": "code",
   "execution_count": 81,
   "metadata": {
    "colab": {
     "base_uri": "https://localhost:8080/",
     "height": 466
    },
    "id": "DYu2YmqE5WZo",
    "outputId": "83514716-cd8e-4a1a-f045-d21c8c3c9037"
   },
   "outputs": [
    {
     "data": {
      "text/plain": [
       "<AxesSubplot:xlabel='Property_Area', ylabel='count'>"
      ]
     },
     "execution_count": 81,
     "metadata": {},
     "output_type": "execute_result"
    },
    {
     "data": {
      "image/png": "[encoded data removed]",
      "text/plain": [
       "<Figure size 640x480 with 1 Axes>"
      ]
     },
     "metadata": {},
     "output_type": "display_data"
    }
   ],
   "source": [
    "sns.countplot(x='Property_Area',data=df,hue='Loan_Status')\n",
    "\n",
    "# >> We can see we have more count for Semiurban in Loan Status as Y & aslo less value for N in SemiUrban as Compared to others Property"
   ]
  },
  {
   "cell_type": "code",
   "execution_count": 82,
   "metadata": {
    "colab": {
     "base_uri": "https://localhost:8080/",
     "height": 564
    },
    "id": "lIUyVJ0jxTCn",
    "outputId": "ce2f9342-c1bc-42e3-ac26-6dd1018cf86d"
   },
   "outputs": [
    {
     "data": {
      "image/png": "[encoded data removed]",
      "text/plain": [
       "<Figure size 1000x600 with 1 Axes>"
      ]
     },
     "metadata": {},
     "output_type": "display_data"
    }
   ],
   "source": [
    "plt.figure(figsize=(10, 6))\n",
    "sns.boxplot(x='Property_Area', y='LoanAmount', data=df)\n",
    "plt.title('Loan Amount by Property Area')\n",
    "plt.show()"
   ]
  },
  {
   "cell_type": "code",
   "execution_count": 83,
   "metadata": {
    "colab": {
     "base_uri": "https://localhost:8080/",
     "height": 564
    },
    "id": "6BFBOH3ux31e",
    "outputId": "a900d5b3-765d-476b-b687-066e20fa7adb"
   },
   "outputs": [
    {
     "data": {
      "image/png": "[encoded data removed]",
      "text/plain": [
       "<Figure size 1000x600 with 1 Axes>"
      ]
     },
     "metadata": {},
     "output_type": "display_data"
    }
   ],
   "source": [
    "plt.figure(figsize=(10, 6))\n",
    "sns.violinplot(x='Education', y='ApplicantIncome', data=df)\n",
    "plt.title('Applicant Income by Education')\n",
    "plt.show()\n",
    "\n",
    "\n",
    "# Graduate Applicants:\n",
    "#  >> The distribution of incomes for graduates is wider and has a higher peak.\n",
    "#  >> This indicates greater variance in income levels among graduates.\n",
    "#  >> Some graduates earn significantly more, leading to the extended upper tail of the distribution.\n",
    "\n",
    "# Not Graduate Applicants:\n",
    "# >> The distribution of incomes for non-graduates is narrower and flatter.\n",
    "# >> There is less variability in income among non-graduates.\n",
    "# >> The peak is around the lower-income range.\n",
    "\n",
    "# Summary:\n",
    "# Graduates exhibit a wider range of income levels, while non-graduates have a more consistent income distribution.\n",
    "# The graph highlights the impact of education on income disparities."
   ]
  },
  {
   "cell_type": "markdown",
   "metadata": {
    "id": "Nqxbv7KHyK8_"
   },
   "source": [
    "#**Data Preprocessing**"
   ]
  },
  {
   "cell_type": "code",
   "execution_count": 110,
   "metadata": {
    "colab": {
     "base_uri": "https://localhost:8080/"
    },
    "id": "KXuH6GUa6MLE",
    "outputId": "59c78c1a-2e50-46b9-95ed-dcc0aa0515ee"
   },
   "outputs": [
    {
     "name": "stdout",
     "output_type": "stream",
     "text": [
      "<class 'pandas.core.frame.DataFrame'>\n",
      "RangeIndex: 614 entries, 0 to 613\n",
      "Data columns (total 12 columns):\n",
      " #   Column             Non-Null Count  Dtype  \n",
      "---  ------             --------------  -----  \n",
      " 0   Gender             614 non-null    object \n",
      " 1   Married            614 non-null    object \n",
      " 2   Dependents         614 non-null    object \n",
      " 3   Education          614 non-null    object \n",
      " 4   Self_Employed      614 non-null    object \n",
      " 5   ApplicantIncome    614 non-null    float64\n",
      " 6   CoapplicantIncome  614 non-null    float64\n",
      " 7   LoanAmount         614 non-null    float64\n",
      " 8   Loan_Amount_Term   614 non-null    float64\n",
      " 9   Credit_History     614 non-null    float64\n",
      " 10  Property_Area      614 non-null    object \n",
      " 11  Loan_Status        614 non-null    object \n",
      "dtypes: float64(5), object(7)\n",
      "memory usage: 57.7+ KB\n"
     ]
    }
   ],
   "source": [
    "df.info()"
   ]
  },
  {
   "cell_type": "code",
   "execution_count": 115,
   "metadata": {},
   "outputs": [],
   "source": [
    "categorical_vars=df[Categorical_columns[0:6]]"
   ]
  },
  {
   "cell_type": "code",
   "execution_count": 116,
   "metadata": {},
   "outputs": [
    {
     "name": "stdout",
     "output_type": "stream",
     "text": [
      "<class 'pandas.core.frame.DataFrame'>\n",
      "RangeIndex: 614 entries, 0 to 613\n",
      "Data columns (total 6 columns):\n",
      " #   Column         Non-Null Count  Dtype \n",
      "---  ------         --------------  ----- \n",
      " 0   Gender         614 non-null    object\n",
      " 1   Married        614 non-null    object\n",
      " 2   Dependents     614 non-null    object\n",
      " 3   Education      614 non-null    object\n",
      " 4   Self_Employed  614 non-null    object\n",
      " 5   Property_Area  614 non-null    object\n",
      "dtypes: object(6)\n",
      "memory usage: 28.9+ KB\n"
     ]
    }
   ],
   "source": [
    "categorical_vars.info()"
   ]
  },
  {
   "cell_type": "code",
   "execution_count": 117,
   "metadata": {
    "id": "J8YymNeVx9uE"
   },
   "outputs": [],
   "source": [
    "from sklearn.preprocessing import LabelEncoder\n",
    "\n",
    "# Selecting categorical columns >>\n",
    "\n",
    "# Applying LabelEncoder to each categorical column >>\n",
    "label_encoders = {}\n",
    "for column in categorical_vars:\n",
    "    # Applying labelencoder >>\n",
    "    label_encoders[column] = LabelEncoder()\n",
    "    df[column] = label_encoders[column].fit_transform(df[column])"
   ]
  },
  {
   "cell_type": "code",
   "execution_count": 118,
   "metadata": {
    "id": "Mu6HYTINyWW3"
   },
   "outputs": [],
   "source": [
    "df['Loan_Status'] = df['Loan_Status'].map({'N': 0, 'Y': 1})"
   ]
  },
  {
   "cell_type": "code",
   "execution_count": 119,
   "metadata": {
    "colab": {
     "base_uri": "https://localhost:8080/"
    },
    "id": "bcaIj2MqyU27",
    "outputId": "b376d6bd-da1f-451e-f4a2-291eef84d119"
   },
   "outputs": [
    {
     "data": {
      "text/plain": [
       "Gender                 int32\n",
       "Married                int32\n",
       "Dependents             int32\n",
       "Education              int32\n",
       "Self_Employed          int32\n",
       "ApplicantIncome      float64\n",
       "CoapplicantIncome    float64\n",
       "LoanAmount           float64\n",
       "Loan_Amount_Term     float64\n",
       "Credit_History       float64\n",
       "Property_Area          int32\n",
       "Loan_Status            int64\n",
       "dtype: object"
      ]
     },
     "execution_count": 119,
     "metadata": {},
     "output_type": "execute_result"
    }
   ],
   "source": [
    "df.dtypes"
   ]
  },
  {
   "cell_type": "code",
   "execution_count": 120,
   "metadata": {
    "colab": {
     "base_uri": "https://localhost:8080/"
    },
    "id": "iDGJPV-lzE9u",
    "outputId": "404a859a-41e0-4f23-86c8-06a3f9808bb1"
   },
   "outputs": [
    {
     "data": {
      "text/plain": [
       "Gender               0\n",
       "Married              0\n",
       "Dependents           0\n",
       "Education            0\n",
       "Self_Employed        0\n",
       "ApplicantIncome      0\n",
       "CoapplicantIncome    0\n",
       "LoanAmount           0\n",
       "Loan_Amount_Term     0\n",
       "Credit_History       0\n",
       "Property_Area        0\n",
       "Loan_Status          0\n",
       "dtype: int64"
      ]
     },
     "execution_count": 120,
     "metadata": {},
     "output_type": "execute_result"
    }
   ],
   "source": [
    "df.isnull().sum()"
   ]
  },
  {
   "cell_type": "markdown",
   "metadata": {
    "id": "KH2fL-9Iyxrf"
   },
   "source": [
    "#**Data Splitting**"
   ]
  },
  {
   "cell_type": "code",
   "execution_count": 121,
   "metadata": {
    "id": "cbQ-QIzyysh0"
   },
   "outputs": [],
   "source": [
    "from sklearn.model_selection import train_test_split\n",
    "from sklearn.linear_model import LogisticRegression\n",
    "from sklearn.ensemble import RandomForestClassifier, GradientBoostingClassifier\n",
    "from sklearn.metrics import accuracy_score, classification_report\n",
    "\n",
    "# Split the training data into features and target variable\n",
    "X = df.drop(columns=['Loan_Status'])\n",
    "y = df['Loan_Status']"
   ]
  },
  {
   "cell_type": "code",
   "execution_count": 122,
   "metadata": {},
   "outputs": [
    {
     "data": {
      "text/plain": [
       "0      1\n",
       "1      0\n",
       "2      1\n",
       "3      1\n",
       "4      1\n",
       "5      1\n",
       "6      1\n",
       "7      0\n",
       "8      1\n",
       "9      0\n",
       "10     1\n",
       "11     1\n",
       "12     1\n",
       "13     0\n",
       "14     1\n",
       "15     1\n",
       "16     1\n",
       "17     0\n",
       "18     0\n",
       "19     1\n",
       "20     0\n",
       "21     1\n",
       "22     0\n",
       "23     0\n",
       "24     0\n",
       "25     1\n",
       "26     1\n",
       "27     1\n",
       "28     0\n",
       "29     1\n",
       "30     0\n",
       "31     0\n",
       "32     0\n",
       "33     1\n",
       "34     0\n",
       "35     1\n",
       "36     0\n",
       "37     1\n",
       "38     1\n",
       "39     1\n",
       "40     0\n",
       "41     1\n",
       "42     1\n",
       "43     1\n",
       "44     1\n",
       "45     1\n",
       "46     1\n",
       "47     1\n",
       "48     0\n",
       "49     1\n",
       "50     1\n",
       "51     1\n",
       "52     0\n",
       "53     0\n",
       "54     0\n",
       "55     1\n",
       "56     1\n",
       "57     0\n",
       "58     1\n",
       "59     1\n",
       "60     1\n",
       "61     1\n",
       "62     0\n",
       "63     0\n",
       "64     0\n",
       "65     0\n",
       "66     0\n",
       "67     1\n",
       "68     1\n",
       "69     0\n",
       "70     1\n",
       "71     1\n",
       "72     1\n",
       "73     0\n",
       "74     1\n",
       "75     0\n",
       "76     0\n",
       "77     0\n",
       "78     0\n",
       "79     1\n",
       "80     1\n",
       "81     1\n",
       "82     0\n",
       "83     0\n",
       "84     1\n",
       "85     1\n",
       "86     1\n",
       "87     1\n",
       "88     1\n",
       "89     1\n",
       "90     1\n",
       "91     1\n",
       "92     1\n",
       "93     1\n",
       "94     1\n",
       "95     0\n",
       "96     1\n",
       "97     1\n",
       "98     1\n",
       "99     1\n",
       "100    1\n",
       "101    1\n",
       "102    1\n",
       "103    1\n",
       "104    1\n",
       "105    1\n",
       "106    1\n",
       "107    0\n",
       "108    0\n",
       "109    1\n",
       "110    1\n",
       "111    1\n",
       "112    0\n",
       "113    1\n",
       "114    1\n",
       "115    1\n",
       "116    1\n",
       "117    1\n",
       "118    0\n",
       "119    1\n",
       "120    1\n",
       "121    1\n",
       "122    1\n",
       "123    1\n",
       "124    1\n",
       "125    1\n",
       "126    1\n",
       "127    1\n",
       "128    0\n",
       "129    0\n",
       "130    1\n",
       "131    1\n",
       "132    1\n",
       "133    1\n",
       "134    1\n",
       "135    0\n",
       "136    0\n",
       "137    1\n",
       "138    0\n",
       "139    0\n",
       "140    0\n",
       "141    1\n",
       "142    1\n",
       "143    1\n",
       "144    1\n",
       "145    1\n",
       "146    1\n",
       "147    1\n",
       "148    0\n",
       "149    1\n",
       "150    0\n",
       "151    1\n",
       "152    0\n",
       "153    0\n",
       "154    1\n",
       "155    1\n",
       "156    1\n",
       "157    1\n",
       "158    1\n",
       "159    1\n",
       "160    1\n",
       "161    0\n",
       "162    0\n",
       "163    1\n",
       "164    1\n",
       "165    1\n",
       "166    0\n",
       "167    1\n",
       "168    0\n",
       "169    1\n",
       "170    1\n",
       "171    1\n",
       "172    0\n",
       "173    1\n",
       "174    0\n",
       "175    1\n",
       "176    1\n",
       "177    0\n",
       "178    1\n",
       "179    0\n",
       "180    0\n",
       "181    0\n",
       "182    1\n",
       "183    0\n",
       "184    1\n",
       "185    1\n",
       "186    0\n",
       "187    1\n",
       "188    1\n",
       "189    1\n",
       "190    1\n",
       "191    0\n",
       "192    0\n",
       "193    1\n",
       "194    1\n",
       "195    0\n",
       "196    1\n",
       "197    1\n",
       "198    1\n",
       "199    0\n",
       "200    1\n",
       "201    1\n",
       "202    0\n",
       "203    1\n",
       "204    1\n",
       "205    1\n",
       "206    1\n",
       "207    1\n",
       "208    1\n",
       "209    0\n",
       "210    0\n",
       "211    0\n",
       "212    1\n",
       "213    1\n",
       "214    1\n",
       "215    1\n",
       "216    0\n",
       "217    1\n",
       "218    0\n",
       "219    1\n",
       "220    0\n",
       "221    1\n",
       "222    1\n",
       "223    1\n",
       "224    1\n",
       "225    0\n",
       "226    0\n",
       "227    1\n",
       "228    1\n",
       "229    1\n",
       "230    1\n",
       "231    1\n",
       "232    1\n",
       "233    1\n",
       "234    1\n",
       "235    1\n",
       "236    0\n",
       "237    1\n",
       "238    1\n",
       "239    1\n",
       "240    1\n",
       "241    0\n",
       "242    1\n",
       "243    1\n",
       "244    1\n",
       "245    0\n",
       "246    1\n",
       "247    1\n",
       "248    1\n",
       "249    1\n",
       "250    0\n",
       "251    0\n",
       "252    1\n",
       "253    1\n",
       "254    0\n",
       "255    1\n",
       "256    0\n",
       "257    0\n",
       "258    0\n",
       "259    0\n",
       "260    1\n",
       "261    1\n",
       "262    0\n",
       "263    1\n",
       "264    1\n",
       "265    1\n",
       "266    1\n",
       "267    1\n",
       "268    0\n",
       "269    1\n",
       "270    1\n",
       "271    1\n",
       "272    1\n",
       "273    1\n",
       "274    1\n",
       "275    1\n",
       "276    1\n",
       "277    1\n",
       "278    1\n",
       "279    1\n",
       "280    0\n",
       "281    1\n",
       "282    1\n",
       "283    1\n",
       "284    0\n",
       "285    1\n",
       "286    0\n",
       "287    1\n",
       "288    1\n",
       "289    1\n",
       "290    1\n",
       "291    0\n",
       "292    1\n",
       "293    0\n",
       "294    1\n",
       "295    1\n",
       "296    1\n",
       "297    1\n",
       "298    0\n",
       "299    0\n",
       "300    0\n",
       "301    1\n",
       "302    1\n",
       "303    1\n",
       "304    1\n",
       "305    0\n",
       "306    1\n",
       "307    0\n",
       "308    0\n",
       "309    1\n",
       "310    1\n",
       "311    1\n",
       "312    1\n",
       "313    1\n",
       "314    0\n",
       "315    1\n",
       "316    1\n",
       "317    1\n",
       "318    1\n",
       "319    0\n",
       "320    1\n",
       "321    1\n",
       "322    1\n",
       "323    1\n",
       "324    1\n",
       "325    0\n",
       "326    1\n",
       "327    1\n",
       "328    0\n",
       "329    1\n",
       "330    1\n",
       "331    1\n",
       "332    1\n",
       "333    1\n",
       "334    1\n",
       "335    1\n",
       "336    1\n",
       "337    1\n",
       "338    0\n",
       "339    1\n",
       "340    0\n",
       "341    0\n",
       "342    1\n",
       "343    1\n",
       "344    1\n",
       "345    1\n",
       "346    0\n",
       "347    1\n",
       "348    1\n",
       "349    1\n",
       "350    1\n",
       "351    0\n",
       "352    1\n",
       "353    0\n",
       "354    1\n",
       "355    1\n",
       "356    1\n",
       "357    0\n",
       "358    0\n",
       "359    1\n",
       "360    0\n",
       "361    1\n",
       "362    1\n",
       "363    1\n",
       "364    1\n",
       "365    0\n",
       "366    0\n",
       "367    0\n",
       "368    1\n",
       "369    0\n",
       "370    1\n",
       "371    1\n",
       "372    1\n",
       "373    0\n",
       "374    1\n",
       "375    1\n",
       "376    1\n",
       "377    1\n",
       "378    0\n",
       "379    1\n",
       "380    1\n",
       "381    1\n",
       "382    1\n",
       "383    1\n",
       "384    0\n",
       "385    1\n",
       "386    1\n",
       "387    0\n",
       "388    1\n",
       "389    1\n",
       "390    1\n",
       "391    1\n",
       "392    1\n",
       "393    1\n",
       "394    1\n",
       "395    1\n",
       "396    0\n",
       "397    1\n",
       "398    1\n",
       "399    0\n",
       "400    0\n",
       "401    0\n",
       "402    1\n",
       "403    1\n",
       "404    0\n",
       "405    1\n",
       "406    1\n",
       "407    1\n",
       "408    0\n",
       "409    0\n",
       "410    0\n",
       "411    1\n",
       "412    0\n",
       "413    1\n",
       "414    0\n",
       "415    1\n",
       "416    0\n",
       "417    0\n",
       "418    1\n",
       "419    1\n",
       "420    1\n",
       "421    0\n",
       "422    1\n",
       "423    0\n",
       "424    1\n",
       "425    1\n",
       "426    0\n",
       "427    1\n",
       "428    1\n",
       "429    1\n",
       "430    1\n",
       "431    0\n",
       "432    1\n",
       "433    1\n",
       "434    1\n",
       "435    1\n",
       "436    1\n",
       "437    1\n",
       "438    0\n",
       "439    1\n",
       "440    1\n",
       "441    1\n",
       "442    1\n",
       "443    1\n",
       "444    1\n",
       "445    1\n",
       "446    1\n",
       "447    0\n",
       "448    0\n",
       "449    0\n",
       "450    0\n",
       "451    1\n",
       "452    0\n",
       "453    1\n",
       "454    1\n",
       "455    1\n",
       "456    1\n",
       "457    0\n",
       "458    1\n",
       "459    0\n",
       "460    1\n",
       "461    1\n",
       "462    1\n",
       "463    1\n",
       "464    0\n",
       "465    1\n",
       "466    0\n",
       "467    1\n",
       "468    1\n",
       "469    0\n",
       "470    1\n",
       "471    0\n",
       "472    1\n",
       "473    1\n",
       "474    1\n",
       "475    1\n",
       "476    1\n",
       "477    0\n",
       "478    1\n",
       "479    0\n",
       "480    1\n",
       "481    1\n",
       "482    1\n",
       "483    1\n",
       "484    1\n",
       "485    1\n",
       "486    0\n",
       "487    0\n",
       "488    1\n",
       "489    0\n",
       "490    1\n",
       "491    1\n",
       "492    1\n",
       "493    1\n",
       "494    0\n",
       "495    1\n",
       "496    1\n",
       "497    1\n",
       "498    1\n",
       "499    0\n",
       "500    1\n",
       "501    1\n",
       "502    1\n",
       "503    0\n",
       "504    1\n",
       "505    1\n",
       "506    1\n",
       "507    0\n",
       "508    1\n",
       "509    1\n",
       "510    0\n",
       "511    1\n",
       "512    1\n",
       "513    0\n",
       "514    0\n",
       "515    1\n",
       "516    1\n",
       "517    0\n",
       "518    0\n",
       "519    0\n",
       "520    1\n",
       "521    1\n",
       "522    1\n",
       "523    1\n",
       "524    0\n",
       "525    1\n",
       "526    1\n",
       "527    1\n",
       "528    1\n",
       "529    1\n",
       "530    1\n",
       "531    1\n",
       "532    0\n",
       "533    0\n",
       "534    1\n",
       "535    1\n",
       "536    1\n",
       "537    1\n",
       "538    0\n",
       "539    1\n",
       "540    1\n",
       "541    0\n",
       "542    1\n",
       "543    1\n",
       "544    1\n",
       "545    1\n",
       "546    0\n",
       "547    1\n",
       "548    0\n",
       "549    1\n",
       "550    0\n",
       "551    1\n",
       "552    1\n",
       "553    0\n",
       "554    0\n",
       "555    1\n",
       "556    1\n",
       "557    1\n",
       "558    1\n",
       "559    1\n",
       "560    1\n",
       "561    1\n",
       "562    1\n",
       "563    1\n",
       "564    0\n",
       "565    1\n",
       "566    1\n",
       "567    0\n",
       "568    0\n",
       "569    0\n",
       "570    1\n",
       "571    0\n",
       "572    1\n",
       "573    0\n",
       "574    0\n",
       "575    1\n",
       "576    0\n",
       "577    1\n",
       "578    1\n",
       "579    1\n",
       "580    1\n",
       "581    0\n",
       "582    1\n",
       "583    0\n",
       "584    0\n",
       "585    0\n",
       "586    1\n",
       "587    1\n",
       "588    1\n",
       "589    0\n",
       "590    1\n",
       "591    0\n",
       "592    1\n",
       "593    1\n",
       "594    1\n",
       "595    1\n",
       "596    0\n",
       "597    0\n",
       "598    1\n",
       "599    1\n",
       "600    0\n",
       "601    1\n",
       "602    1\n",
       "603    1\n",
       "604    1\n",
       "605    0\n",
       "606    1\n",
       "607    1\n",
       "608    1\n",
       "609    1\n",
       "610    1\n",
       "611    1\n",
       "612    1\n",
       "613    0\n",
       "Name: Loan_Status, dtype: int64"
      ]
     },
     "execution_count": 122,
     "metadata": {},
     "output_type": "execute_result"
    }
   ],
   "source": [
    "y"
   ]
  },
  {
   "cell_type": "code",
   "execution_count": 123,
   "metadata": {},
   "outputs": [
    {
     "name": "stdout",
     "output_type": "stream",
     "text": [
      "Requirement already satisfied: imblearn in d:\\anaconda\\lib\\site-packages (0.0)\n",
      "Requirement already satisfied: imbalanced-learn in d:\\anaconda\\lib\\site-packages (from imblearn) (0.11.0)\n",
      "Requirement already satisfied: numpy>=1.17.3 in d:\\anaconda\\lib\\site-packages (from imbalanced-learn->imblearn) (1.21.5)\n",
      "Requirement already satisfied: scipy>=1.5.0 in d:\\anaconda\\lib\\site-packages (from imbalanced-learn->imblearn) (1.9.1)\n",
      "Requirement already satisfied: scikit-learn>=1.0.2 in d:\\anaconda\\lib\\site-packages (from imbalanced-learn->imblearn) (1.0.2)\n",
      "Requirement already satisfied: joblib>=1.1.1 in d:\\anaconda\\lib\\site-packages (from imbalanced-learn->imblearn) (1.3.2)\n",
      "Requirement already satisfied: threadpoolctl>=2.0.0 in d:\\anaconda\\lib\\site-packages (from imbalanced-learn->imblearn) (2.2.0)\n"
     ]
    }
   ],
   "source": [
    "#Tackling Imbalance\n",
    "!pip install imblearn\n",
    "from imblearn.over_sampling import SMOTE\n",
    "sm=SMOTE()\n",
    "x1,y1=sm.fit_resample(X,y)"
   ]
  },
  {
   "cell_type": "code",
   "execution_count": 126,
   "metadata": {},
   "outputs": [
    {
     "data": {
      "text/plain": [
       "1    422\n",
       "0    422\n",
       "Name: Loan_Status, dtype: int64"
      ]
     },
     "execution_count": 126,
     "metadata": {},
     "output_type": "execute_result"
    }
   ],
   "source": [
    "y1.value_counts()"
   ]
  },
  {
   "cell_type": "code",
   "execution_count": 127,
   "metadata": {
    "id": "ZkAA3NzOy4rw"
   },
   "outputs": [],
   "source": [
    "# Split the training data into training and validation sets\n",
    "X_train, X_val, y_train, y_val = train_test_split(x1, y1, test_size=0.2, random_state=42)"
   ]
  },
  {
   "cell_type": "markdown",
   "metadata": {
    "id": "BndHFTbgy95Q"
   },
   "source": [
    "#**Model Building**"
   ]
  },
  {
   "cell_type": "code",
   "execution_count": 128,
   "metadata": {
    "id": "_SYnSRf4y7j7"
   },
   "outputs": [],
   "source": [
    "# Initialize models\n",
    "models = {\n",
    "    'Logistic Regression': LogisticRegression(),\n",
    "    'Random Forest': RandomForestClassifier(),\n",
    "    'Gradient Boosting': GradientBoostingClassifier()\n",
    "}"
   ]
  },
  {
   "cell_type": "code",
   "execution_count": 129,
   "metadata": {
    "colab": {
     "base_uri": "https://localhost:8080/"
    },
    "id": "nqHRlMzvy_Rg",
    "outputId": "38f1c93b-6c5e-413e-9e0c-4f71d9d3b4e0"
   },
   "outputs": [
    {
     "name": "stdout",
     "output_type": "stream",
     "text": [
      "----------------------------------------------------------------------\n",
      "Training and evaluating Logistic Regression...\n"
     ]
    },
    {
     "name": "stderr",
     "output_type": "stream",
     "text": [
      "D:\\anaconda\\lib\\site-packages\\sklearn\\linear_model\\_logistic.py:814: ConvergenceWarning: lbfgs failed to converge (status=1):\n",
      "STOP: TOTAL NO. of ITERATIONS REACHED LIMIT.\n",
      "\n",
      "Increase the number of iterations (max_iter) or scale the data as shown in:\n",
      "    https://scikit-learn.org/stable/modules/preprocessing.html\n",
      "Please also refer to the documentation for alternative solver options:\n",
      "    https://scikit-learn.org/stable/modules/linear_model.html#logistic-regression\n",
      "  n_iter_i = _check_optimize_result(\n"
     ]
    },
    {
     "name": "stdout",
     "output_type": "stream",
     "text": [
      "Accuracy of Logistic Regression: 0.71\n",
      "Classification Report of Logistic Regression:\n",
      "              precision    recall  f1-score   support\n",
      "\n",
      "           0       0.83      0.61      0.70        94\n",
      "           1       0.63      0.84      0.72        75\n",
      "\n",
      "    accuracy                           0.71       169\n",
      "   macro avg       0.73      0.72      0.71       169\n",
      "weighted avg       0.74      0.71      0.71       169\n",
      "\n",
      "\n",
      "----------------------------------------------------------------------\n",
      "Training and evaluating Random Forest...\n",
      "Accuracy of Random Forest: 0.79\n",
      "Classification Report of Random Forest:\n",
      "              precision    recall  f1-score   support\n",
      "\n",
      "           0       0.87      0.73      0.80        94\n",
      "           1       0.72      0.87      0.79        75\n",
      "\n",
      "    accuracy                           0.79       169\n",
      "   macro avg       0.80      0.80      0.79       169\n",
      "weighted avg       0.81      0.79      0.79       169\n",
      "\n",
      "\n",
      "----------------------------------------------------------------------\n",
      "Training and evaluating Gradient Boosting...\n",
      "Accuracy of Gradient Boosting: 0.79\n",
      "Classification Report of Gradient Boosting:\n",
      "              precision    recall  f1-score   support\n",
      "\n",
      "           0       0.93      0.67      0.78        94\n",
      "           1       0.69      0.93      0.80        75\n",
      "\n",
      "    accuracy                           0.79       169\n",
      "   macro avg       0.81      0.80      0.79       169\n",
      "weighted avg       0.82      0.79      0.79       169\n",
      "\n",
      "\n",
      "----------------------------------------------------------------------\n"
     ]
    }
   ],
   "source": [
    "# Train and evaluate models\n",
    "for name, model in models.items():\n",
    "    print(\"-\"*70)\n",
    "    print(f\"Training and evaluating {name}...\")\n",
    "    # Train the model\n",
    "    model.fit(X_train, y_train)\n",
    "\n",
    "    # Predict on the validation data\n",
    "    y_pred = model.predict(X_val)\n",
    "\n",
    "    # Evaluate the model\n",
    "    accuracy = accuracy_score(y_val, y_pred)\n",
    "    report = classification_report(y_val, y_pred)\n",
    "\n",
    "    print(f\"Accuracy of {name}: {accuracy:.2f}\")\n",
    "    print(f\"Classification Report of {name}:\\n{report}\\n\")\n",
    "print(\"-\"*70)"
   ]
  },
  {
   "cell_type": "markdown",
   "metadata": {
    "id": "X-2GHjS21L7J"
   },
   "source": [
    "Based on the evaluation results provided, here's a summary of the models' performance in bullet points:\n",
    "\n",
    "- Logistic Regression:\n",
    "  - Accuracy: 0.71\n",
    "  - Precision (class 0): 0.83\n",
    "  - Precision (class 1): 0.63\n",
    "  - Recall (class 0): 0.61\n",
    "  - Recall (class 1): 0.84\n",
    "  - F1-score (class 0): 0.70\n",
    "  - F1-score (class 1): 0.72\n",
    "  - Comments:\n",
    "    - Achieves high precision and recall for class 0 (Y).\n",
    "    - Despite lower recall for class 1 (N), maintains overall decent accuracy.\n",
    "\n",
    "- Random Forest:\n",
    "  - Accuracy: 0.79\n",
    "  - Precision (class 0): 0.87\n",
    "  - Precision (class 1): 0.72\n",
    "  - Recall (class 0): 0.73\n",
    "  - Recall (class 1): 0.87\n",
    "  - F1-score (class 0): 0.80\n",
    "  - F1-score (class 1): 0.79\n",
    "  - Comments:\n",
    "    - Similar to Logistic Regression, achieves high precision and recall for class 0 (Y).\n",
    "    - Better accuracy compared to Logistic Regression. Best F1 score for both class 0 and 1.\n",
    "\n",
    "- Gradient Boosting:\n",
    "  - Accuracy: 0.79\n",
    "  - Precision (class 0): 0.93\n",
    "  - Precision (class 1): 0.69\n",
    "  - Recall (class 0): 0.67\n",
    "  - Recall (class 1): 0.93\n",
    "  - F1-score (class 0): 0.78\n",
    "  - F1-score (class 1): 0.80\n",
    "  - Comments:\n",
    "    - Achieves the highest recall for class 1 (Y).\n",
    "    - Lower precision and recall for class 0 (N) compared to Random Forest models.\n",
    "\n",
    "Based on the evaluation metrics and analysis, the recommendation for model selection would be:\n",
    "\n",
    "- **Random Forest**:\n",
    "  - It achieves the highest overall accuracy (0.79) among the models evaluated.\n",
    "  - Despite slightly lower recall for class 0 (N), it balances precision and recall well for both classes.\n",
    "\n",
    "Thus, considering both accuracy and precision-recall balance, Random Forest appears to be the most suitable model for this dataset."
   ]
  }
 ],
 "metadata": {
  "colab": {
   "provenance": []
  },
  "kernelspec": {
   "display_name": "Python 3 (ipykernel)",
   "language": "python",
   "name": "python3"
  },
  "language_info": {
   "codemirror_mode": {
    "name": "ipython",
    "version": 3
   },
   "file_extension": ".py",
   "mimetype": "text/x-python",
   "name": "python",
   "nbconvert_exporter": "python",
   "pygments_lexer": "ipython3",
   "version": "3.9.13"
  }
 },
 "nbformat": 4,
 "nbformat_minor": 1
}
